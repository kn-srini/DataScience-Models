{
 "cells": [
  {
   "cell_type": "code",
   "execution_count": 1,
   "metadata": {},
   "outputs": [],
   "source": [
    "# Supervised Learning-1 \n",
    "# Learn to handle missing values\n",
    "# categorical features - get_dummies method or Label encoder\n",
    "# Replace the missing values by the most frequent value in each column\n",
    "# Learn to fit a decision tree and compare its accuracy with random forest classifier."
   ]
  },
  {
   "cell_type": "code",
   "execution_count": 2,
   "metadata": {},
   "outputs": [],
   "source": [
    "import pandas as pd\n",
    "import matplotlib.pyplot as plot\n",
    "%matplotlib inline"
   ]
  },
  {
   "cell_type": "code",
   "execution_count": 3,
   "metadata": {},
   "outputs": [],
   "source": [
    "# 1. Let’s attempt to predict the survival of a horse based on various observed medical conditions. \n",
    "# Load the data from ‘horses.csv’ and observe whether it contains missing values."
   ]
  },
  {
   "cell_type": "code",
   "execution_count": 4,
   "metadata": {},
   "outputs": [],
   "source": [
    "animals = pd.read_csv(\"F:\\sreenu\\Data Science\\Python\\Module-7 Dataset/horse.csv\")"
   ]
  },
  {
   "cell_type": "code",
   "execution_count": 5,
   "metadata": {},
   "outputs": [
    {
     "data": {
      "text/html": [
       "<div>\n",
       "<style scoped>\n",
       "    .dataframe tbody tr th:only-of-type {\n",
       "        vertical-align: middle;\n",
       "    }\n",
       "\n",
       "    .dataframe tbody tr th {\n",
       "        vertical-align: top;\n",
       "    }\n",
       "\n",
       "    .dataframe thead th {\n",
       "        text-align: right;\n",
       "    }\n",
       "</style>\n",
       "<table border=\"1\" class=\"dataframe\">\n",
       "  <thead>\n",
       "    <tr style=\"text-align: right;\">\n",
       "      <th></th>\n",
       "      <th>surgery</th>\n",
       "      <th>age</th>\n",
       "      <th>hospital_number</th>\n",
       "      <th>rectal_temp</th>\n",
       "      <th>pulse</th>\n",
       "      <th>respiratory_rate</th>\n",
       "      <th>temp_of_extremities</th>\n",
       "      <th>peripheral_pulse</th>\n",
       "      <th>mucous_membrane</th>\n",
       "      <th>capillary_refill_time</th>\n",
       "      <th>...</th>\n",
       "      <th>packed_cell_volume</th>\n",
       "      <th>total_protein</th>\n",
       "      <th>abdomo_appearance</th>\n",
       "      <th>abdomo_protein</th>\n",
       "      <th>outcome</th>\n",
       "      <th>surgical_lesion</th>\n",
       "      <th>lesion_1</th>\n",
       "      <th>lesion_2</th>\n",
       "      <th>lesion_3</th>\n",
       "      <th>cp_data</th>\n",
       "    </tr>\n",
       "  </thead>\n",
       "  <tbody>\n",
       "    <tr>\n",
       "      <th>0</th>\n",
       "      <td>no</td>\n",
       "      <td>adult</td>\n",
       "      <td>530101</td>\n",
       "      <td>38.5</td>\n",
       "      <td>66.0</td>\n",
       "      <td>28.0</td>\n",
       "      <td>cool</td>\n",
       "      <td>reduced</td>\n",
       "      <td>NaN</td>\n",
       "      <td>more_3_sec</td>\n",
       "      <td>...</td>\n",
       "      <td>45.0</td>\n",
       "      <td>8.4</td>\n",
       "      <td>NaN</td>\n",
       "      <td>NaN</td>\n",
       "      <td>died</td>\n",
       "      <td>no</td>\n",
       "      <td>11300</td>\n",
       "      <td>0</td>\n",
       "      <td>0</td>\n",
       "      <td>no</td>\n",
       "    </tr>\n",
       "    <tr>\n",
       "      <th>1</th>\n",
       "      <td>yes</td>\n",
       "      <td>adult</td>\n",
       "      <td>534817</td>\n",
       "      <td>39.2</td>\n",
       "      <td>88.0</td>\n",
       "      <td>20.0</td>\n",
       "      <td>NaN</td>\n",
       "      <td>NaN</td>\n",
       "      <td>pale_cyanotic</td>\n",
       "      <td>less_3_sec</td>\n",
       "      <td>...</td>\n",
       "      <td>50.0</td>\n",
       "      <td>85.0</td>\n",
       "      <td>cloudy</td>\n",
       "      <td>2.0</td>\n",
       "      <td>euthanized</td>\n",
       "      <td>no</td>\n",
       "      <td>2208</td>\n",
       "      <td>0</td>\n",
       "      <td>0</td>\n",
       "      <td>no</td>\n",
       "    </tr>\n",
       "    <tr>\n",
       "      <th>2</th>\n",
       "      <td>no</td>\n",
       "      <td>adult</td>\n",
       "      <td>530334</td>\n",
       "      <td>38.3</td>\n",
       "      <td>40.0</td>\n",
       "      <td>24.0</td>\n",
       "      <td>normal</td>\n",
       "      <td>normal</td>\n",
       "      <td>pale_pink</td>\n",
       "      <td>less_3_sec</td>\n",
       "      <td>...</td>\n",
       "      <td>33.0</td>\n",
       "      <td>6.7</td>\n",
       "      <td>NaN</td>\n",
       "      <td>NaN</td>\n",
       "      <td>lived</td>\n",
       "      <td>no</td>\n",
       "      <td>0</td>\n",
       "      <td>0</td>\n",
       "      <td>0</td>\n",
       "      <td>yes</td>\n",
       "    </tr>\n",
       "    <tr>\n",
       "      <th>3</th>\n",
       "      <td>yes</td>\n",
       "      <td>young</td>\n",
       "      <td>5290409</td>\n",
       "      <td>39.1</td>\n",
       "      <td>164.0</td>\n",
       "      <td>84.0</td>\n",
       "      <td>cold</td>\n",
       "      <td>normal</td>\n",
       "      <td>dark_cyanotic</td>\n",
       "      <td>more_3_sec</td>\n",
       "      <td>...</td>\n",
       "      <td>48.0</td>\n",
       "      <td>7.2</td>\n",
       "      <td>serosanguious</td>\n",
       "      <td>5.3</td>\n",
       "      <td>died</td>\n",
       "      <td>yes</td>\n",
       "      <td>2208</td>\n",
       "      <td>0</td>\n",
       "      <td>0</td>\n",
       "      <td>yes</td>\n",
       "    </tr>\n",
       "    <tr>\n",
       "      <th>4</th>\n",
       "      <td>no</td>\n",
       "      <td>adult</td>\n",
       "      <td>530255</td>\n",
       "      <td>37.3</td>\n",
       "      <td>104.0</td>\n",
       "      <td>35.0</td>\n",
       "      <td>NaN</td>\n",
       "      <td>NaN</td>\n",
       "      <td>dark_cyanotic</td>\n",
       "      <td>more_3_sec</td>\n",
       "      <td>...</td>\n",
       "      <td>74.0</td>\n",
       "      <td>7.4</td>\n",
       "      <td>NaN</td>\n",
       "      <td>NaN</td>\n",
       "      <td>died</td>\n",
       "      <td>no</td>\n",
       "      <td>4300</td>\n",
       "      <td>0</td>\n",
       "      <td>0</td>\n",
       "      <td>no</td>\n",
       "    </tr>\n",
       "  </tbody>\n",
       "</table>\n",
       "<p>5 rows × 28 columns</p>\n",
       "</div>"
      ],
      "text/plain": [
       "  surgery    age  hospital_number  rectal_temp  pulse  respiratory_rate  \\\n",
       "0      no  adult           530101         38.5   66.0              28.0   \n",
       "1     yes  adult           534817         39.2   88.0              20.0   \n",
       "2      no  adult           530334         38.3   40.0              24.0   \n",
       "3     yes  young          5290409         39.1  164.0              84.0   \n",
       "4      no  adult           530255         37.3  104.0              35.0   \n",
       "\n",
       "  temp_of_extremities peripheral_pulse mucous_membrane capillary_refill_time  \\\n",
       "0                cool          reduced             NaN            more_3_sec   \n",
       "1                 NaN              NaN   pale_cyanotic            less_3_sec   \n",
       "2              normal           normal       pale_pink            less_3_sec   \n",
       "3                cold           normal   dark_cyanotic            more_3_sec   \n",
       "4                 NaN              NaN   dark_cyanotic            more_3_sec   \n",
       "\n",
       "   ... packed_cell_volume total_protein abdomo_appearance abdomo_protein  \\\n",
       "0  ...               45.0           8.4               NaN            NaN   \n",
       "1  ...               50.0          85.0            cloudy            2.0   \n",
       "2  ...               33.0           6.7               NaN            NaN   \n",
       "3  ...               48.0           7.2     serosanguious            5.3   \n",
       "4  ...               74.0           7.4               NaN            NaN   \n",
       "\n",
       "      outcome  surgical_lesion lesion_1 lesion_2  lesion_3  cp_data  \n",
       "0        died               no    11300        0         0       no  \n",
       "1  euthanized               no     2208        0         0       no  \n",
       "2       lived               no        0        0         0      yes  \n",
       "3        died              yes     2208        0         0      yes  \n",
       "4        died               no     4300        0         0       no  \n",
       "\n",
       "[5 rows x 28 columns]"
      ]
     },
     "execution_count": 5,
     "metadata": {},
     "output_type": "execute_result"
    }
   ],
   "source": [
    "animals.head()"
   ]
  },
  {
   "cell_type": "code",
   "execution_count": 6,
   "metadata": {},
   "outputs": [
    {
     "name": "stdout",
     "output_type": "stream",
     "text": [
      "<class 'pandas.core.frame.DataFrame'>\n",
      "RangeIndex: 299 entries, 0 to 298\n",
      "Data columns (total 28 columns):\n",
      "surgery                  299 non-null object\n",
      "age                      299 non-null object\n",
      "hospital_number          299 non-null int64\n",
      "rectal_temp              239 non-null float64\n",
      "pulse                    275 non-null float64\n",
      "respiratory_rate         241 non-null float64\n",
      "temp_of_extremities      243 non-null object\n",
      "peripheral_pulse         230 non-null object\n",
      "mucous_membrane          252 non-null object\n",
      "capillary_refill_time    267 non-null object\n",
      "pain                     244 non-null object\n",
      "peristalsis              255 non-null object\n",
      "abdominal_distention     243 non-null object\n",
      "nasogastric_tube         195 non-null object\n",
      "nasogastric_reflux       193 non-null object\n",
      "nasogastric_reflux_ph    53 non-null float64\n",
      "rectal_exam_feces        197 non-null object\n",
      "abdomen                  181 non-null object\n",
      "packed_cell_volume       270 non-null float64\n",
      "total_protein            266 non-null float64\n",
      "abdomo_appearance        134 non-null object\n",
      "abdomo_protein           101 non-null float64\n",
      "outcome                  299 non-null object\n",
      "surgical_lesion          299 non-null object\n",
      "lesion_1                 299 non-null int64\n",
      "lesion_2                 299 non-null int64\n",
      "lesion_3                 299 non-null int64\n",
      "cp_data                  299 non-null object\n",
      "dtypes: float64(7), int64(4), object(17)\n",
      "memory usage: 65.5+ KB\n"
     ]
    }
   ],
   "source": [
    "animals.info()"
   ]
  },
  {
   "cell_type": "code",
   "execution_count": 7,
   "metadata": {},
   "outputs": [
    {
     "data": {
      "text/plain": [
       "surgery                    0\n",
       "age                        0\n",
       "hospital_number            0\n",
       "rectal_temp               60\n",
       "pulse                     24\n",
       "respiratory_rate          58\n",
       "temp_of_extremities       56\n",
       "peripheral_pulse          69\n",
       "mucous_membrane           47\n",
       "capillary_refill_time     32\n",
       "pain                      55\n",
       "peristalsis               44\n",
       "abdominal_distention      56\n",
       "nasogastric_tube         104\n",
       "nasogastric_reflux       106\n",
       "nasogastric_reflux_ph    246\n",
       "rectal_exam_feces        102\n",
       "abdomen                  118\n",
       "packed_cell_volume        29\n",
       "total_protein             33\n",
       "abdomo_appearance        165\n",
       "abdomo_protein           198\n",
       "outcome                    0\n",
       "surgical_lesion            0\n",
       "lesion_1                   0\n",
       "lesion_2                   0\n",
       "lesion_3                   0\n",
       "cp_data                    0\n",
       "dtype: int64"
      ]
     },
     "execution_count": 7,
     "metadata": {},
     "output_type": "execute_result"
    }
   ],
   "source": [
    "animals.isnull().sum()"
   ]
  },
  {
   "cell_type": "code",
   "execution_count": 8,
   "metadata": {},
   "outputs": [],
   "source": [
    "#2. This dataset contains many categorical features, replace them with label encoding.\n",
    "# [Hint: Refer to get_dummies methods in pandas dataframe or Label encoder in scikit-learn]"
   ]
  },
  {
   "cell_type": "code",
   "execution_count": 9,
   "metadata": {},
   "outputs": [],
   "source": [
    "target = animals['outcome']"
   ]
  },
  {
   "cell_type": "code",
   "execution_count": 10,
   "metadata": {},
   "outputs": [
    {
     "data": {
      "text/plain": [
       "0          died\n",
       "1    euthanized\n",
       "2         lived\n",
       "3          died\n",
       "4          died\n",
       "Name: outcome, dtype: object"
      ]
     },
     "execution_count": 10,
     "metadata": {},
     "output_type": "execute_result"
    }
   ],
   "source": [
    "target.head()"
   ]
  },
  {
   "cell_type": "code",
   "execution_count": 11,
   "metadata": {},
   "outputs": [
    {
     "data": {
      "text/plain": [
       "array(['died', 'euthanized', 'lived'], dtype=object)"
      ]
     },
     "execution_count": 11,
     "metadata": {},
     "output_type": "execute_result"
    }
   ],
   "source": [
    "target.unique()"
   ]
  },
  {
   "cell_type": "code",
   "execution_count": 12,
   "metadata": {},
   "outputs": [],
   "source": [
    "animals =animals.drop(['outcome'],axis=1)"
   ]
  },
  {
   "cell_type": "code",
   "execution_count": 13,
   "metadata": {},
   "outputs": [],
   "source": [
    "category_variables = ['surgery', 'age', 'temp_of_extremities','peripheral_pulse',\n",
    "       'mucous_membrane', 'capillary_refill_time', 'pain', 'peristalsis',\n",
    "       'abdominal_distention', 'nasogastric_tube', 'nasogastric_reflux', 'rectal_exam_feces', 'abdomen',\n",
    "      'abdomo_appearance', 'surgical_lesion','cp_data']\n",
    "\n",
    "for category in category_variables:\n",
    "    animals[category] = pd.get_dummies(animals[category])"
   ]
  },
  {
   "cell_type": "code",
   "execution_count": 14,
   "metadata": {},
   "outputs": [
    {
     "data": {
      "text/plain": [
       "0      1\n",
       "1      1\n",
       "2      0\n",
       "3      0\n",
       "4      1\n",
       "5      1\n",
       "6      1\n",
       "7      1\n",
       "8      1\n",
       "9      0\n",
       "10     0\n",
       "11     1\n",
       "12     1\n",
       "13     0\n",
       "14     1\n",
       "15     1\n",
       "16     0\n",
       "17     1\n",
       "18     0\n",
       "19     1\n",
       "20     1\n",
       "21     1\n",
       "22     1\n",
       "23     1\n",
       "24     1\n",
       "25     1\n",
       "26     0\n",
       "27     0\n",
       "28     1\n",
       "29     1\n",
       "      ..\n",
       "269    1\n",
       "270    1\n",
       "271    1\n",
       "272    0\n",
       "273    1\n",
       "274    1\n",
       "275    1\n",
       "276    1\n",
       "277    1\n",
       "278    0\n",
       "279    1\n",
       "280    0\n",
       "281    1\n",
       "282    1\n",
       "283    0\n",
       "284    0\n",
       "285    1\n",
       "286    1\n",
       "287    1\n",
       "288    0\n",
       "289    1\n",
       "290    1\n",
       "291    1\n",
       "292    1\n",
       "293    1\n",
       "294    1\n",
       "295    0\n",
       "296    1\n",
       "297    0\n",
       "298    1\n",
       "Name: cp_data, Length: 299, dtype: uint8"
      ]
     },
     "execution_count": 14,
     "metadata": {},
     "output_type": "execute_result"
    }
   ],
   "source": [
    "animals[category]"
   ]
  },
  {
   "cell_type": "code",
   "execution_count": 15,
   "metadata": {},
   "outputs": [],
   "source": [
    "from sklearn.model_selection import train_test_split\n",
    "from sklearn.preprocessing import LabelEncoder\n",
    "\n",
    "X, y = animals.values,target.values\n",
    "\n",
    "\n",
    "\n",
    "label_encoder = LabelEncoder()\n",
    "y = label_encoder.fit_transform(y)\n",
    "\n",
    "X_train, X_test, y_train, y_test = train_test_split(X, y, test_size=0.2, random_state=1)"
   ]
  },
  {
   "cell_type": "code",
   "execution_count": 16,
   "metadata": {},
   "outputs": [
    {
     "name": "stdout",
     "output_type": "stream",
     "text": [
      "(239, 27)\n"
     ]
    }
   ],
   "source": [
    "from sklearn.tree import DecisionTreeClassifier\n",
    "print(X_train.shape)"
   ]
  },
  {
   "cell_type": "code",
   "execution_count": 17,
   "metadata": {},
   "outputs": [],
   "source": [
    "#3. Replace the missing values by the most frequent value in each column.\n",
    "# [Hint: Refer to Imputer class in Scikit learn preprocessing module]"
   ]
  },
  {
   "cell_type": "code",
   "execution_count": 18,
   "metadata": {},
   "outputs": [
    {
     "name": "stderr",
     "output_type": "stream",
     "text": [
      "C:\\ProgramData\\Anaconda3\\lib\\site-packages\\sklearn\\utils\\deprecation.py:66: DeprecationWarning: Class Imputer is deprecated; Imputer was deprecated in version 0.20 and will be removed in 0.22. Import impute.SimpleImputer from sklearn instead.\n",
      "  warnings.warn(msg, category=DeprecationWarning)\n"
     ]
    }
   ],
   "source": [
    "from sklearn.preprocessing import Imputer\n",
    "imp = Imputer(missing_values=\"NaN\",strategy=\"most_frequent\",axis =0)\n",
    "X_train = imp.fit_transform(X_train)\n",
    "X_test = imp.fit_transform(X_test)"
   ]
  },
  {
   "cell_type": "code",
   "execution_count": 19,
   "metadata": {},
   "outputs": [],
   "source": [
    "#4. Fit a decision tree classifier and observe the accuracy."
   ]
  },
  {
   "cell_type": "code",
   "execution_count": 20,
   "metadata": {},
   "outputs": [],
   "source": [
    "from sklearn.tree import DecisionTreeClassifier\n",
    "classifier = DecisionTreeClassifier()"
   ]
  },
  {
   "cell_type": "code",
   "execution_count": 21,
   "metadata": {},
   "outputs": [
    {
     "data": {
      "text/plain": [
       "DecisionTreeClassifier(class_weight=None, criterion='gini', max_depth=None,\n",
       "                       max_features=None, max_leaf_nodes=None,\n",
       "                       min_impurity_decrease=0.0, min_impurity_split=None,\n",
       "                       min_samples_leaf=1, min_samples_split=2,\n",
       "                       min_weight_fraction_leaf=0.0, presort=False,\n",
       "                       random_state=None, splitter='best')"
      ]
     },
     "execution_count": 21,
     "metadata": {},
     "output_type": "execute_result"
    }
   ],
   "source": [
    "classifier.fit(X_train,y_train)"
   ]
  },
  {
   "cell_type": "code",
   "execution_count": 22,
   "metadata": {},
   "outputs": [],
   "source": [
    "y_predict = classifier.predict(X_test)"
   ]
  },
  {
   "cell_type": "code",
   "execution_count": 23,
   "metadata": {},
   "outputs": [],
   "source": [
    "from sklearn.metrics import accuracy_score"
   ]
  },
  {
   "cell_type": "code",
   "execution_count": 24,
   "metadata": {},
   "outputs": [],
   "source": [
    "accuracy = accuracy_score(y_predict,y_test)"
   ]
  },
  {
   "cell_type": "code",
   "execution_count": 25,
   "metadata": {},
   "outputs": [
    {
     "name": "stdout",
     "output_type": "stream",
     "text": [
      "0.6\n"
     ]
    }
   ],
   "source": [
    "print(accuracy)"
   ]
  },
  {
   "cell_type": "code",
   "execution_count": 26,
   "metadata": {},
   "outputs": [],
   "source": [
    "#5. Fit a random forest classifier and observe the accuracy."
   ]
  },
  {
   "cell_type": "code",
   "execution_count": 27,
   "metadata": {},
   "outputs": [],
   "source": [
    "from sklearn.ensemble import RandomForestClassifier\n",
    "classifier = RandomForestClassifier()"
   ]
  },
  {
   "cell_type": "code",
   "execution_count": 28,
   "metadata": {},
   "outputs": [
    {
     "name": "stdout",
     "output_type": "stream",
     "text": [
      "0.7333333333333333\n"
     ]
    },
    {
     "name": "stderr",
     "output_type": "stream",
     "text": [
      "C:\\ProgramData\\Anaconda3\\lib\\site-packages\\sklearn\\ensemble\\forest.py:245: FutureWarning: The default value of n_estimators will change from 10 in version 0.20 to 100 in 0.22.\n",
      "  \"10 in version 0.20 to 100 in 0.22.\", FutureWarning)\n"
     ]
    }
   ],
   "source": [
    "classifier.fit(X_train,y_train)\n",
    "y_predict = classifier.predict(X_test)\n",
    "accuracy = accuracy_score(y_predict,y_test)\n",
    "print(accuracy)"
   ]
  },
  {
   "cell_type": "code",
   "execution_count": null,
   "metadata": {},
   "outputs": [],
   "source": []
  }
 ],
 "metadata": {
  "kernelspec": {
   "display_name": "Python 3",
   "language": "python",
   "name": "python3"
  },
  "language_info": {
   "codemirror_mode": {
    "name": "ipython",
    "version": 3
   },
   "file_extension": ".py",
   "mimetype": "text/x-python",
   "name": "python",
   "nbconvert_exporter": "python",
   "pygments_lexer": "ipython3",
   "version": "3.7.3"
  }
 },
 "nbformat": 4,
 "nbformat_minor": 2
}
