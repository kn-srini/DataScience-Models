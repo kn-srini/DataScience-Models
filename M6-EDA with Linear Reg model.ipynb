{
 "cells": [
  {
   "cell_type": "code",
   "execution_count": 1,
   "metadata": {},
   "outputs": [],
   "source": [
    "import pandas as pd\n",
    "import matplotlib.pyplot as plot\n",
    "%matplotlib inline"
   ]
  },
  {
   "cell_type": "code",
   "execution_count": 2,
   "metadata": {},
   "outputs": [],
   "source": [
    "df = pd.read_csv('F:\\sreenu\\Data Science\\Python\\Module-6 Dataset/cereal.csv')"
   ]
  },
  {
   "cell_type": "code",
   "execution_count": 3,
   "metadata": {},
   "outputs": [
    {
     "data": {
      "text/html": [
       "<div>\n",
       "<style scoped>\n",
       "    .dataframe tbody tr th:only-of-type {\n",
       "        vertical-align: middle;\n",
       "    }\n",
       "\n",
       "    .dataframe tbody tr th {\n",
       "        vertical-align: top;\n",
       "    }\n",
       "\n",
       "    .dataframe thead th {\n",
       "        text-align: right;\n",
       "    }\n",
       "</style>\n",
       "<table border=\"1\" class=\"dataframe\">\n",
       "  <thead>\n",
       "    <tr style=\"text-align: right;\">\n",
       "      <th></th>\n",
       "      <th>name</th>\n",
       "      <th>mfr</th>\n",
       "      <th>type</th>\n",
       "      <th>calories</th>\n",
       "      <th>protein</th>\n",
       "      <th>fat</th>\n",
       "      <th>sodium</th>\n",
       "      <th>fiber</th>\n",
       "      <th>carbo</th>\n",
       "      <th>sugars</th>\n",
       "      <th>potass</th>\n",
       "      <th>vitamins</th>\n",
       "      <th>shelf</th>\n",
       "      <th>weight</th>\n",
       "      <th>cups</th>\n",
       "      <th>rating</th>\n",
       "    </tr>\n",
       "  </thead>\n",
       "  <tbody>\n",
       "    <tr>\n",
       "      <th>0</th>\n",
       "      <td>100% Bran</td>\n",
       "      <td>N</td>\n",
       "      <td>C</td>\n",
       "      <td>70</td>\n",
       "      <td>4</td>\n",
       "      <td>1</td>\n",
       "      <td>130</td>\n",
       "      <td>10.0</td>\n",
       "      <td>5.0</td>\n",
       "      <td>6</td>\n",
       "      <td>280</td>\n",
       "      <td>25</td>\n",
       "      <td>3</td>\n",
       "      <td>1.0</td>\n",
       "      <td>0.33</td>\n",
       "      <td>68.402973</td>\n",
       "    </tr>\n",
       "    <tr>\n",
       "      <th>1</th>\n",
       "      <td>100% Natural Bran</td>\n",
       "      <td>Q</td>\n",
       "      <td>C</td>\n",
       "      <td>120</td>\n",
       "      <td>3</td>\n",
       "      <td>5</td>\n",
       "      <td>15</td>\n",
       "      <td>2.0</td>\n",
       "      <td>8.0</td>\n",
       "      <td>8</td>\n",
       "      <td>135</td>\n",
       "      <td>0</td>\n",
       "      <td>3</td>\n",
       "      <td>1.0</td>\n",
       "      <td>1.00</td>\n",
       "      <td>33.983679</td>\n",
       "    </tr>\n",
       "    <tr>\n",
       "      <th>2</th>\n",
       "      <td>All-Bran</td>\n",
       "      <td>K</td>\n",
       "      <td>C</td>\n",
       "      <td>70</td>\n",
       "      <td>4</td>\n",
       "      <td>1</td>\n",
       "      <td>260</td>\n",
       "      <td>9.0</td>\n",
       "      <td>7.0</td>\n",
       "      <td>5</td>\n",
       "      <td>320</td>\n",
       "      <td>25</td>\n",
       "      <td>3</td>\n",
       "      <td>1.0</td>\n",
       "      <td>0.33</td>\n",
       "      <td>59.425505</td>\n",
       "    </tr>\n",
       "    <tr>\n",
       "      <th>3</th>\n",
       "      <td>All-Bran with Extra Fiber</td>\n",
       "      <td>K</td>\n",
       "      <td>C</td>\n",
       "      <td>50</td>\n",
       "      <td>4</td>\n",
       "      <td>0</td>\n",
       "      <td>140</td>\n",
       "      <td>14.0</td>\n",
       "      <td>8.0</td>\n",
       "      <td>0</td>\n",
       "      <td>330</td>\n",
       "      <td>25</td>\n",
       "      <td>3</td>\n",
       "      <td>1.0</td>\n",
       "      <td>0.50</td>\n",
       "      <td>93.704912</td>\n",
       "    </tr>\n",
       "    <tr>\n",
       "      <th>4</th>\n",
       "      <td>Almond Delight</td>\n",
       "      <td>R</td>\n",
       "      <td>C</td>\n",
       "      <td>110</td>\n",
       "      <td>2</td>\n",
       "      <td>2</td>\n",
       "      <td>200</td>\n",
       "      <td>1.0</td>\n",
       "      <td>14.0</td>\n",
       "      <td>8</td>\n",
       "      <td>-1</td>\n",
       "      <td>25</td>\n",
       "      <td>3</td>\n",
       "      <td>1.0</td>\n",
       "      <td>0.75</td>\n",
       "      <td>34.384843</td>\n",
       "    </tr>\n",
       "  </tbody>\n",
       "</table>\n",
       "</div>"
      ],
      "text/plain": [
       "                        name mfr type  calories  protein  fat  sodium  fiber  \\\n",
       "0                  100% Bran   N    C        70        4    1     130   10.0   \n",
       "1          100% Natural Bran   Q    C       120        3    5      15    2.0   \n",
       "2                   All-Bran   K    C        70        4    1     260    9.0   \n",
       "3  All-Bran with Extra Fiber   K    C        50        4    0     140   14.0   \n",
       "4             Almond Delight   R    C       110        2    2     200    1.0   \n",
       "\n",
       "   carbo  sugars  potass  vitamins  shelf  weight  cups     rating  \n",
       "0    5.0       6     280        25      3     1.0  0.33  68.402973  \n",
       "1    8.0       8     135         0      3     1.0  1.00  33.983679  \n",
       "2    7.0       5     320        25      3     1.0  0.33  59.425505  \n",
       "3    8.0       0     330        25      3     1.0  0.50  93.704912  \n",
       "4   14.0       8      -1        25      3     1.0  0.75  34.384843  "
      ]
     },
     "execution_count": 3,
     "metadata": {},
     "output_type": "execute_result"
    }
   ],
   "source": [
    "df.head()"
   ]
  },
  {
   "cell_type": "code",
   "execution_count": 4,
   "metadata": {},
   "outputs": [
    {
     "data": {
      "text/html": [
       "<div>\n",
       "<style scoped>\n",
       "    .dataframe tbody tr th:only-of-type {\n",
       "        vertical-align: middle;\n",
       "    }\n",
       "\n",
       "    .dataframe tbody tr th {\n",
       "        vertical-align: top;\n",
       "    }\n",
       "\n",
       "    .dataframe thead th {\n",
       "        text-align: right;\n",
       "    }\n",
       "</style>\n",
       "<table border=\"1\" class=\"dataframe\">\n",
       "  <thead>\n",
       "    <tr style=\"text-align: right;\">\n",
       "      <th></th>\n",
       "      <th>calories</th>\n",
       "      <th>protein</th>\n",
       "      <th>fat</th>\n",
       "      <th>sodium</th>\n",
       "      <th>fiber</th>\n",
       "      <th>carbo</th>\n",
       "      <th>sugars</th>\n",
       "      <th>potass</th>\n",
       "      <th>vitamins</th>\n",
       "      <th>shelf</th>\n",
       "      <th>weight</th>\n",
       "      <th>cups</th>\n",
       "      <th>rating</th>\n",
       "    </tr>\n",
       "  </thead>\n",
       "  <tbody>\n",
       "    <tr>\n",
       "      <th>count</th>\n",
       "      <td>77.000000</td>\n",
       "      <td>77.000000</td>\n",
       "      <td>77.000000</td>\n",
       "      <td>77.000000</td>\n",
       "      <td>77.000000</td>\n",
       "      <td>77.000000</td>\n",
       "      <td>77.000000</td>\n",
       "      <td>77.000000</td>\n",
       "      <td>77.000000</td>\n",
       "      <td>77.000000</td>\n",
       "      <td>77.000000</td>\n",
       "      <td>77.000000</td>\n",
       "      <td>77.000000</td>\n",
       "    </tr>\n",
       "    <tr>\n",
       "      <th>mean</th>\n",
       "      <td>106.883117</td>\n",
       "      <td>2.545455</td>\n",
       "      <td>1.012987</td>\n",
       "      <td>159.675325</td>\n",
       "      <td>2.151948</td>\n",
       "      <td>14.597403</td>\n",
       "      <td>6.922078</td>\n",
       "      <td>96.077922</td>\n",
       "      <td>28.246753</td>\n",
       "      <td>2.207792</td>\n",
       "      <td>1.029610</td>\n",
       "      <td>0.821039</td>\n",
       "      <td>42.665705</td>\n",
       "    </tr>\n",
       "    <tr>\n",
       "      <th>std</th>\n",
       "      <td>19.484119</td>\n",
       "      <td>1.094790</td>\n",
       "      <td>1.006473</td>\n",
       "      <td>83.832295</td>\n",
       "      <td>2.383364</td>\n",
       "      <td>4.278956</td>\n",
       "      <td>4.444885</td>\n",
       "      <td>71.286813</td>\n",
       "      <td>22.342523</td>\n",
       "      <td>0.832524</td>\n",
       "      <td>0.150477</td>\n",
       "      <td>0.232716</td>\n",
       "      <td>14.047289</td>\n",
       "    </tr>\n",
       "    <tr>\n",
       "      <th>min</th>\n",
       "      <td>50.000000</td>\n",
       "      <td>1.000000</td>\n",
       "      <td>0.000000</td>\n",
       "      <td>0.000000</td>\n",
       "      <td>0.000000</td>\n",
       "      <td>-1.000000</td>\n",
       "      <td>-1.000000</td>\n",
       "      <td>-1.000000</td>\n",
       "      <td>0.000000</td>\n",
       "      <td>1.000000</td>\n",
       "      <td>0.500000</td>\n",
       "      <td>0.250000</td>\n",
       "      <td>18.042851</td>\n",
       "    </tr>\n",
       "    <tr>\n",
       "      <th>25%</th>\n",
       "      <td>100.000000</td>\n",
       "      <td>2.000000</td>\n",
       "      <td>0.000000</td>\n",
       "      <td>130.000000</td>\n",
       "      <td>1.000000</td>\n",
       "      <td>12.000000</td>\n",
       "      <td>3.000000</td>\n",
       "      <td>40.000000</td>\n",
       "      <td>25.000000</td>\n",
       "      <td>1.000000</td>\n",
       "      <td>1.000000</td>\n",
       "      <td>0.670000</td>\n",
       "      <td>33.174094</td>\n",
       "    </tr>\n",
       "    <tr>\n",
       "      <th>50%</th>\n",
       "      <td>110.000000</td>\n",
       "      <td>3.000000</td>\n",
       "      <td>1.000000</td>\n",
       "      <td>180.000000</td>\n",
       "      <td>2.000000</td>\n",
       "      <td>14.000000</td>\n",
       "      <td>7.000000</td>\n",
       "      <td>90.000000</td>\n",
       "      <td>25.000000</td>\n",
       "      <td>2.000000</td>\n",
       "      <td>1.000000</td>\n",
       "      <td>0.750000</td>\n",
       "      <td>40.400208</td>\n",
       "    </tr>\n",
       "    <tr>\n",
       "      <th>75%</th>\n",
       "      <td>110.000000</td>\n",
       "      <td>3.000000</td>\n",
       "      <td>2.000000</td>\n",
       "      <td>210.000000</td>\n",
       "      <td>3.000000</td>\n",
       "      <td>17.000000</td>\n",
       "      <td>11.000000</td>\n",
       "      <td>120.000000</td>\n",
       "      <td>25.000000</td>\n",
       "      <td>3.000000</td>\n",
       "      <td>1.000000</td>\n",
       "      <td>1.000000</td>\n",
       "      <td>50.828392</td>\n",
       "    </tr>\n",
       "    <tr>\n",
       "      <th>max</th>\n",
       "      <td>160.000000</td>\n",
       "      <td>6.000000</td>\n",
       "      <td>5.000000</td>\n",
       "      <td>320.000000</td>\n",
       "      <td>14.000000</td>\n",
       "      <td>23.000000</td>\n",
       "      <td>15.000000</td>\n",
       "      <td>330.000000</td>\n",
       "      <td>100.000000</td>\n",
       "      <td>3.000000</td>\n",
       "      <td>1.500000</td>\n",
       "      <td>1.500000</td>\n",
       "      <td>93.704912</td>\n",
       "    </tr>\n",
       "  </tbody>\n",
       "</table>\n",
       "</div>"
      ],
      "text/plain": [
       "         calories    protein        fat      sodium      fiber      carbo  \\\n",
       "count   77.000000  77.000000  77.000000   77.000000  77.000000  77.000000   \n",
       "mean   106.883117   2.545455   1.012987  159.675325   2.151948  14.597403   \n",
       "std     19.484119   1.094790   1.006473   83.832295   2.383364   4.278956   \n",
       "min     50.000000   1.000000   0.000000    0.000000   0.000000  -1.000000   \n",
       "25%    100.000000   2.000000   0.000000  130.000000   1.000000  12.000000   \n",
       "50%    110.000000   3.000000   1.000000  180.000000   2.000000  14.000000   \n",
       "75%    110.000000   3.000000   2.000000  210.000000   3.000000  17.000000   \n",
       "max    160.000000   6.000000   5.000000  320.000000  14.000000  23.000000   \n",
       "\n",
       "          sugars      potass    vitamins      shelf     weight       cups  \\\n",
       "count  77.000000   77.000000   77.000000  77.000000  77.000000  77.000000   \n",
       "mean    6.922078   96.077922   28.246753   2.207792   1.029610   0.821039   \n",
       "std     4.444885   71.286813   22.342523   0.832524   0.150477   0.232716   \n",
       "min    -1.000000   -1.000000    0.000000   1.000000   0.500000   0.250000   \n",
       "25%     3.000000   40.000000   25.000000   1.000000   1.000000   0.670000   \n",
       "50%     7.000000   90.000000   25.000000   2.000000   1.000000   0.750000   \n",
       "75%    11.000000  120.000000   25.000000   3.000000   1.000000   1.000000   \n",
       "max    15.000000  330.000000  100.000000   3.000000   1.500000   1.500000   \n",
       "\n",
       "          rating  \n",
       "count  77.000000  \n",
       "mean   42.665705  \n",
       "std    14.047289  \n",
       "min    18.042851  \n",
       "25%    33.174094  \n",
       "50%    40.400208  \n",
       "75%    50.828392  \n",
       "max    93.704912  "
      ]
     },
     "execution_count": 4,
     "metadata": {},
     "output_type": "execute_result"
    }
   ],
   "source": [
    "df.describe()"
   ]
  },
  {
   "cell_type": "code",
   "execution_count": 5,
   "metadata": {},
   "outputs": [
    {
     "name": "stderr",
     "output_type": "stream",
     "text": [
      "C:\\ProgramData\\Anaconda3\\lib\\site-packages\\ipykernel_launcher.py:1: FutureWarning: Method .as_matrix will be removed in a future version. Use .values instead.\n",
      "  \"\"\"Entry point for launching an IPython kernel.\n"
     ]
    }
   ],
   "source": [
    "dataset = df.as_matrix()"
   ]
  },
  {
   "cell_type": "code",
   "execution_count": 6,
   "metadata": {},
   "outputs": [
    {
     "data": {
      "text/plain": [
       "Index(['name', 'mfr', 'type', 'calories', 'protein', 'fat', 'sodium', 'fiber',\n",
       "       'carbo', 'sugars', 'potass', 'vitamins', 'shelf', 'weight', 'cups',\n",
       "       'rating'],\n",
       "      dtype='object')"
      ]
     },
     "execution_count": 6,
     "metadata": {},
     "output_type": "execute_result"
    }
   ],
   "source": [
    "df.columns"
   ]
  },
  {
   "cell_type": "code",
   "execution_count": 2,
   "metadata": {},
   "outputs": [],
   "source": [
    "#1.Load the data from “cereal.csv” and plot histograms of sugar and vitamin content across different cereals.\n",
    "#[Hint: Extract values of a specific column using their labels and use hist method of pyplot]"
   ]
  },
  {
   "cell_type": "code",
   "execution_count": 7,
   "metadata": {},
   "outputs": [],
   "source": [
    "cereals = pd.read_csv('F:\\sreenu\\Data Science\\Python\\Module-6 Dataset/cereal.csv')"
   ]
  },
  {
   "cell_type": "code",
   "execution_count": 8,
   "metadata": {},
   "outputs": [
    {
     "data": {
      "text/plain": [
       "Text(0.5, 1.0, 'Sugars')"
      ]
     },
     "execution_count": 8,
     "metadata": {},
     "output_type": "execute_result"
    },
    {
     "data": {
      "image/png": "[encoded data removed]",
      "text/plain": [
       "<Figure size 432x288 with 1 Axes>"
      ]
     },
     "metadata": {
      "needs_background": "light"
     },
     "output_type": "display_data"
    }
   ],
   "source": [
    "plot.figure()\n",
    "plot.hist(cereals['sugars'])\n",
    "plot.title('Sugars')"
   ]
  },
  {
   "cell_type": "code",
   "execution_count": 9,
   "metadata": {},
   "outputs": [
    {
     "data": {
      "text/plain": [
       "Text(0.5, 1.0, 'Vitamins')"
      ]
     },
     "execution_count": 9,
     "metadata": {},
     "output_type": "execute_result"
    },
    {
     "data": {
      "image/png": "[encoded data removed]",
      "text/plain": [
       "<Figure size 432x288 with 1 Axes>"
      ]
     },
     "metadata": {
      "needs_background": "light"
     },
     "output_type": "display_data"
    }
   ],
   "source": [
    "plot.figure()\n",
    "plot.hist(cereals['vitamins'])\n",
    "plot.title('Vitamins')"
   ]
  },
  {
   "cell_type": "code",
   "execution_count": null,
   "metadata": {},
   "outputs": [],
   "source": [
    "#2. The names of the manufactures are coded using alphabets, create a new column with their fullname using the below mapping\n",
    "\n",
    "'''\n",
    "'N': 'Nabisco',\n",
    "'Q': 'Quaker Oats',\n",
    "'K': 'Kelloggs',\n",
    "'R': 'Raslston Purina',\n",
    "'G': 'General Mills' ,\n",
    "'P' :'Post' ,\n",
    "'A':'American Home Foods Products'\n",
    "'''\n",
    "\n",
    "#Create a bar plot where each manufacturer is on the y axis and the height of the bars depict the number of cereals \n",
    "#manufactured by them\n",
    "#Hint: Try using countplot this time or bar method of pyplot]"
   ]
  },
  {
   "cell_type": "code",
   "execution_count": 10,
   "metadata": {},
   "outputs": [
    {
     "data": {
      "text/plain": [
       "<matplotlib.axes._subplots.AxesSubplot at 0x8152228eb8>"
      ]
     },
     "execution_count": 10,
     "metadata": {},
     "output_type": "execute_result"
    },
    {
     "data": {
      "image/png": "[encoded data removed]",
      "text/plain": [
       "<Figure size 432x288 with 1 Axes>"
      ]
     },
     "metadata": {
      "needs_background": "light"
     },
     "output_type": "display_data"
    }
   ],
   "source": [
    "import seaborn as sns\n",
    "values_dict = {'N': 'Nabisco', 'Q': 'Quaker Oats', 'K': 'Kelloggs', 'R': 'Raslston Purina', 'G': 'General Mills' , 'P' :'Post' , 'A':'American Home Foods Products'}\n",
    "cereals['mfr_name'] = cereals['mfr'].map(values_dict)\n",
    "sns.countplot(y = 'mfr_name' , hue = 'type' , data=cereals , palette ='cool')"
   ]
  },
  {
   "cell_type": "code",
   "execution_count": null,
   "metadata": {},
   "outputs": [],
   "source": [
    "#3.Extract the rating as your target variable ‘y’ and all numerical parameters as your predictors ‘x’. \n",
    "#Separate 25% of your data as test set"
   ]
  },
  {
   "cell_type": "code",
   "execution_count": 11,
   "metadata": {},
   "outputs": [
    {
     "data": {
      "text/plain": [
       "Index(['name', 'mfr', 'type', 'calories', 'protein', 'fat', 'sodium', 'fiber',\n",
       "       'carbo', 'sugars', 'potass', 'vitamins', 'shelf', 'weight', 'cups',\n",
       "       'rating', 'mfr_name'],\n",
       "      dtype='object')"
      ]
     },
     "execution_count": 11,
     "metadata": {},
     "output_type": "execute_result"
    }
   ],
   "source": [
    "cereals.columns"
   ]
  },
  {
   "cell_type": "code",
   "execution_count": 12,
   "metadata": {},
   "outputs": [],
   "source": [
    "df = cereals.iloc[:,3:-1]"
   ]
  },
  {
   "cell_type": "code",
   "execution_count": 26,
   "metadata": {},
   "outputs": [
    {
     "data": {
      "text/html": [
       "<div>\n",
       "<style scoped>\n",
       "    .dataframe tbody tr th:only-of-type {\n",
       "        vertical-align: middle;\n",
       "    }\n",
       "\n",
       "    .dataframe tbody tr th {\n",
       "        vertical-align: top;\n",
       "    }\n",
       "\n",
       "    .dataframe thead th {\n",
       "        text-align: right;\n",
       "    }\n",
       "</style>\n",
       "<table border=\"1\" class=\"dataframe\">\n",
       "  <thead>\n",
       "    <tr style=\"text-align: right;\">\n",
       "      <th></th>\n",
       "      <th>calories</th>\n",
       "      <th>protein</th>\n",
       "      <th>fat</th>\n",
       "      <th>sodium</th>\n",
       "      <th>fiber</th>\n",
       "      <th>carbo</th>\n",
       "      <th>sugars</th>\n",
       "      <th>potass</th>\n",
       "      <th>vitamins</th>\n",
       "      <th>shelf</th>\n",
       "      <th>weight</th>\n",
       "      <th>cups</th>\n",
       "      <th>rating</th>\n",
       "    </tr>\n",
       "  </thead>\n",
       "  <tbody>\n",
       "    <tr>\n",
       "      <th>0</th>\n",
       "      <td>70</td>\n",
       "      <td>4</td>\n",
       "      <td>1</td>\n",
       "      <td>130</td>\n",
       "      <td>10.0</td>\n",
       "      <td>5.0</td>\n",
       "      <td>6</td>\n",
       "      <td>280</td>\n",
       "      <td>25</td>\n",
       "      <td>3</td>\n",
       "      <td>1.0</td>\n",
       "      <td>0.33</td>\n",
       "      <td>68.402973</td>\n",
       "    </tr>\n",
       "    <tr>\n",
       "      <th>1</th>\n",
       "      <td>120</td>\n",
       "      <td>3</td>\n",
       "      <td>5</td>\n",
       "      <td>15</td>\n",
       "      <td>2.0</td>\n",
       "      <td>8.0</td>\n",
       "      <td>8</td>\n",
       "      <td>135</td>\n",
       "      <td>0</td>\n",
       "      <td>3</td>\n",
       "      <td>1.0</td>\n",
       "      <td>1.00</td>\n",
       "      <td>33.983679</td>\n",
       "    </tr>\n",
       "    <tr>\n",
       "      <th>2</th>\n",
       "      <td>70</td>\n",
       "      <td>4</td>\n",
       "      <td>1</td>\n",
       "      <td>260</td>\n",
       "      <td>9.0</td>\n",
       "      <td>7.0</td>\n",
       "      <td>5</td>\n",
       "      <td>320</td>\n",
       "      <td>25</td>\n",
       "      <td>3</td>\n",
       "      <td>1.0</td>\n",
       "      <td>0.33</td>\n",
       "      <td>59.425505</td>\n",
       "    </tr>\n",
       "    <tr>\n",
       "      <th>3</th>\n",
       "      <td>50</td>\n",
       "      <td>4</td>\n",
       "      <td>0</td>\n",
       "      <td>140</td>\n",
       "      <td>14.0</td>\n",
       "      <td>8.0</td>\n",
       "      <td>0</td>\n",
       "      <td>330</td>\n",
       "      <td>25</td>\n",
       "      <td>3</td>\n",
       "      <td>1.0</td>\n",
       "      <td>0.50</td>\n",
       "      <td>93.704912</td>\n",
       "    </tr>\n",
       "    <tr>\n",
       "      <th>4</th>\n",
       "      <td>110</td>\n",
       "      <td>2</td>\n",
       "      <td>2</td>\n",
       "      <td>200</td>\n",
       "      <td>1.0</td>\n",
       "      <td>14.0</td>\n",
       "      <td>8</td>\n",
       "      <td>-1</td>\n",
       "      <td>25</td>\n",
       "      <td>3</td>\n",
       "      <td>1.0</td>\n",
       "      <td>0.75</td>\n",
       "      <td>34.384843</td>\n",
       "    </tr>\n",
       "  </tbody>\n",
       "</table>\n",
       "</div>"
      ],
      "text/plain": [
       "   calories  protein  fat  sodium  fiber  carbo  sugars  potass  vitamins  \\\n",
       "0        70        4    1     130   10.0    5.0       6     280        25   \n",
       "1       120        3    5      15    2.0    8.0       8     135         0   \n",
       "2        70        4    1     260    9.0    7.0       5     320        25   \n",
       "3        50        4    0     140   14.0    8.0       0     330        25   \n",
       "4       110        2    2     200    1.0   14.0       8      -1        25   \n",
       "\n",
       "   shelf  weight  cups     rating  \n",
       "0      3     1.0  0.33  68.402973  \n",
       "1      3     1.0  1.00  33.983679  \n",
       "2      3     1.0  0.33  59.425505  \n",
       "3      3     1.0  0.50  93.704912  \n",
       "4      3     1.0  0.75  34.384843  "
      ]
     },
     "execution_count": 26,
     "metadata": {},
     "output_type": "execute_result"
    }
   ],
   "source": [
    "df.head()"
   ]
  },
  {
   "cell_type": "code",
   "execution_count": 14,
   "metadata": {},
   "outputs": [
    {
     "name": "stderr",
     "output_type": "stream",
     "text": [
      "C:\\ProgramData\\Anaconda3\\lib\\site-packages\\ipykernel_launcher.py:1: FutureWarning: Method .as_matrix will be removed in a future version. Use .values instead.\n",
      "  \"\"\"Entry point for launching an IPython kernel.\n"
     ]
    }
   ],
   "source": [
    "dataset = df.as_matrix()\n",
    "\n",
    "dataset.shape\n",
    "\n",
    "x= dataset[:,:-1]\n",
    "\n",
    "y= dataset[:,-1]"
   ]
  },
  {
   "cell_type": "code",
   "execution_count": 27,
   "metadata": {},
   "outputs": [
    {
     "data": {
      "text/plain": [
       "array([[ 70.      ,   4.      ,   1.      , ...,   1.      ,   0.33    ,\n",
       "         68.402973],\n",
       "       [120.      ,   3.      ,   5.      , ...,   1.      ,   1.      ,\n",
       "         33.983679],\n",
       "       [ 70.      ,   4.      ,   1.      , ...,   1.      ,   0.33    ,\n",
       "         59.425505],\n",
       "       ...,\n",
       "       [100.      ,   3.      ,   1.      , ...,   1.      ,   0.67    ,\n",
       "         49.787445],\n",
       "       [100.      ,   3.      ,   1.      , ...,   1.      ,   1.      ,\n",
       "         51.592193],\n",
       "       [110.      ,   2.      ,   1.      , ...,   1.      ,   0.75    ,\n",
       "         36.187559]])"
      ]
     },
     "execution_count": 27,
     "metadata": {},
     "output_type": "execute_result"
    }
   ],
   "source": [
    "dataset"
   ]
  },
  {
   "cell_type": "code",
   "execution_count": 28,
   "metadata": {},
   "outputs": [
    {
     "data": {
      "text/plain": [
       "(77, 13)"
      ]
     },
     "execution_count": 28,
     "metadata": {},
     "output_type": "execute_result"
    }
   ],
   "source": [
    "dataset.shape"
   ]
  },
  {
   "cell_type": "code",
   "execution_count": 15,
   "metadata": {},
   "outputs": [
    {
     "data": {
      "text/plain": [
       "(77, 12)"
      ]
     },
     "execution_count": 15,
     "metadata": {},
     "output_type": "execute_result"
    }
   ],
   "source": [
    "x.shape"
   ]
  },
  {
   "cell_type": "code",
   "execution_count": 16,
   "metadata": {},
   "outputs": [
    {
     "data": {
      "text/plain": [
       "(77,)"
      ]
     },
     "execution_count": 16,
     "metadata": {},
     "output_type": "execute_result"
    }
   ],
   "source": [
    "y.shape"
   ]
  },
  {
   "cell_type": "code",
   "execution_count": 30,
   "metadata": {},
   "outputs": [
    {
     "data": {
      "text/plain": [
       "array([[ 7.00e+01,  4.00e+00,  1.00e+00,  1.30e+02,  1.00e+01,  5.00e+00,\n",
       "         6.00e+00,  2.80e+02,  2.50e+01,  3.00e+00,  1.00e+00,  3.30e-01],\n",
       "       [ 1.20e+02,  3.00e+00,  5.00e+00,  1.50e+01,  2.00e+00,  8.00e+00,\n",
       "         8.00e+00,  1.35e+02,  0.00e+00,  3.00e+00,  1.00e+00,  1.00e+00],\n",
       "       [ 7.00e+01,  4.00e+00,  1.00e+00,  2.60e+02,  9.00e+00,  7.00e+00,\n",
       "         5.00e+00,  3.20e+02,  2.50e+01,  3.00e+00,  1.00e+00,  3.30e-01],\n",
       "       [ 5.00e+01,  4.00e+00,  0.00e+00,  1.40e+02,  1.40e+01,  8.00e+00,\n",
       "         0.00e+00,  3.30e+02,  2.50e+01,  3.00e+00,  1.00e+00,  5.00e-01],\n",
       "       [ 1.10e+02,  2.00e+00,  2.00e+00,  2.00e+02,  1.00e+00,  1.40e+01,\n",
       "         8.00e+00, -1.00e+00,  2.50e+01,  3.00e+00,  1.00e+00,  7.50e-01],\n",
       "       [ 1.10e+02,  2.00e+00,  2.00e+00,  1.80e+02,  1.50e+00,  1.05e+01,\n",
       "         1.00e+01,  7.00e+01,  2.50e+01,  1.00e+00,  1.00e+00,  7.50e-01],\n",
       "       [ 1.10e+02,  2.00e+00,  0.00e+00,  1.25e+02,  1.00e+00,  1.10e+01,\n",
       "         1.40e+01,  3.00e+01,  2.50e+01,  2.00e+00,  1.00e+00,  1.00e+00],\n",
       "       [ 1.30e+02,  3.00e+00,  2.00e+00,  2.10e+02,  2.00e+00,  1.80e+01,\n",
       "         8.00e+00,  1.00e+02,  2.50e+01,  3.00e+00,  1.33e+00,  7.50e-01],\n",
       "       [ 9.00e+01,  2.00e+00,  1.00e+00,  2.00e+02,  4.00e+00,  1.50e+01,\n",
       "         6.00e+00,  1.25e+02,  2.50e+01,  1.00e+00,  1.00e+00,  6.70e-01],\n",
       "       [ 9.00e+01,  3.00e+00,  0.00e+00,  2.10e+02,  5.00e+00,  1.30e+01,\n",
       "         5.00e+00,  1.90e+02,  2.50e+01,  3.00e+00,  1.00e+00,  6.70e-01],\n",
       "       [ 1.20e+02,  1.00e+00,  2.00e+00,  2.20e+02,  0.00e+00,  1.20e+01,\n",
       "         1.20e+01,  3.50e+01,  2.50e+01,  2.00e+00,  1.00e+00,  7.50e-01],\n",
       "       [ 1.10e+02,  6.00e+00,  2.00e+00,  2.90e+02,  2.00e+00,  1.70e+01,\n",
       "         1.00e+00,  1.05e+02,  2.50e+01,  1.00e+00,  1.00e+00,  1.25e+00],\n",
       "       [ 1.20e+02,  1.00e+00,  3.00e+00,  2.10e+02,  0.00e+00,  1.30e+01,\n",
       "         9.00e+00,  4.50e+01,  2.50e+01,  2.00e+00,  1.00e+00,  7.50e-01],\n",
       "       [ 1.10e+02,  3.00e+00,  2.00e+00,  1.40e+02,  2.00e+00,  1.30e+01,\n",
       "         7.00e+00,  1.05e+02,  2.50e+01,  3.00e+00,  1.00e+00,  5.00e-01],\n",
       "       [ 1.10e+02,  1.00e+00,  1.00e+00,  1.80e+02,  0.00e+00,  1.20e+01,\n",
       "         1.30e+01,  5.50e+01,  2.50e+01,  2.00e+00,  1.00e+00,  1.00e+00],\n",
       "       [ 1.10e+02,  2.00e+00,  0.00e+00,  2.80e+02,  0.00e+00,  2.20e+01,\n",
       "         3.00e+00,  2.50e+01,  2.50e+01,  1.00e+00,  1.00e+00,  1.00e+00],\n",
       "       [ 1.00e+02,  2.00e+00,  0.00e+00,  2.90e+02,  1.00e+00,  2.10e+01,\n",
       "         2.00e+00,  3.50e+01,  2.50e+01,  1.00e+00,  1.00e+00,  1.00e+00],\n",
       "       [ 1.10e+02,  1.00e+00,  0.00e+00,  9.00e+01,  1.00e+00,  1.30e+01,\n",
       "         1.20e+01,  2.00e+01,  2.50e+01,  2.00e+00,  1.00e+00,  1.00e+00],\n",
       "       [ 1.10e+02,  1.00e+00,  1.00e+00,  1.80e+02,  0.00e+00,  1.20e+01,\n",
       "         1.30e+01,  6.50e+01,  2.50e+01,  2.00e+00,  1.00e+00,  1.00e+00],\n",
       "       [ 1.10e+02,  3.00e+00,  3.00e+00,  1.40e+02,  4.00e+00,  1.00e+01,\n",
       "         7.00e+00,  1.60e+02,  2.50e+01,  3.00e+00,  1.00e+00,  5.00e-01],\n",
       "       [ 1.00e+02,  3.00e+00,  0.00e+00,  8.00e+01,  1.00e+00,  2.10e+01,\n",
       "         0.00e+00, -1.00e+00,  0.00e+00,  2.00e+00,  1.00e+00,  1.00e+00],\n",
       "       [ 1.10e+02,  2.00e+00,  0.00e+00,  2.20e+02,  1.00e+00,  2.10e+01,\n",
       "         3.00e+00,  3.00e+01,  2.50e+01,  3.00e+00,  1.00e+00,  1.00e+00],\n",
       "       [ 1.00e+02,  2.00e+00,  1.00e+00,  1.40e+02,  2.00e+00,  1.10e+01,\n",
       "         1.00e+01,  1.20e+02,  2.50e+01,  3.00e+00,  1.00e+00,  7.50e-01],\n",
       "       [ 1.00e+02,  2.00e+00,  0.00e+00,  1.90e+02,  1.00e+00,  1.80e+01,\n",
       "         5.00e+00,  8.00e+01,  2.50e+01,  3.00e+00,  1.00e+00,  7.50e-01],\n",
       "       [ 1.10e+02,  2.00e+00,  1.00e+00,  1.25e+02,  1.00e+00,  1.10e+01,\n",
       "         1.30e+01,  3.00e+01,  2.50e+01,  2.00e+00,  1.00e+00,  1.00e+00],\n",
       "       [ 1.10e+02,  1.00e+00,  0.00e+00,  2.00e+02,  1.00e+00,  1.40e+01,\n",
       "         1.10e+01,  2.50e+01,  2.50e+01,  1.00e+00,  1.00e+00,  7.50e-01],\n",
       "       [ 1.00e+02,  3.00e+00,  0.00e+00,  0.00e+00,  3.00e+00,  1.40e+01,\n",
       "         7.00e+00,  1.00e+02,  2.50e+01,  2.00e+00,  1.00e+00,  8.00e-01],\n",
       "       [ 1.20e+02,  3.00e+00,  2.00e+00,  1.60e+02,  5.00e+00,  1.20e+01,\n",
       "         1.00e+01,  2.00e+02,  2.50e+01,  3.00e+00,  1.25e+00,  6.70e-01],\n",
       "       [ 1.20e+02,  3.00e+00,  0.00e+00,  2.40e+02,  5.00e+00,  1.40e+01,\n",
       "         1.20e+01,  1.90e+02,  2.50e+01,  3.00e+00,  1.33e+00,  6.70e-01],\n",
       "       [ 1.10e+02,  1.00e+00,  1.00e+00,  1.35e+02,  0.00e+00,  1.30e+01,\n",
       "         1.20e+01,  2.50e+01,  2.50e+01,  2.00e+00,  1.00e+00,  7.50e-01],\n",
       "       [ 1.00e+02,  2.00e+00,  0.00e+00,  4.50e+01,  0.00e+00,  1.10e+01,\n",
       "         1.50e+01,  4.00e+01,  2.50e+01,  1.00e+00,  1.00e+00,  8.80e-01],\n",
       "       [ 1.10e+02,  1.00e+00,  1.00e+00,  2.80e+02,  0.00e+00,  1.50e+01,\n",
       "         9.00e+00,  4.50e+01,  2.50e+01,  2.00e+00,  1.00e+00,  7.50e-01],\n",
       "       [ 1.00e+02,  3.00e+00,  1.00e+00,  1.40e+02,  3.00e+00,  1.50e+01,\n",
       "         5.00e+00,  8.50e+01,  2.50e+01,  3.00e+00,  1.00e+00,  8.80e-01],\n",
       "       [ 1.10e+02,  3.00e+00,  0.00e+00,  1.70e+02,  3.00e+00,  1.70e+01,\n",
       "         3.00e+00,  9.00e+01,  2.50e+01,  3.00e+00,  1.00e+00,  2.50e-01],\n",
       "       [ 1.20e+02,  3.00e+00,  3.00e+00,  7.50e+01,  3.00e+00,  1.30e+01,\n",
       "         4.00e+00,  1.00e+02,  2.50e+01,  3.00e+00,  1.00e+00,  3.30e-01],\n",
       "       [ 1.20e+02,  1.00e+00,  2.00e+00,  2.20e+02,  1.00e+00,  1.20e+01,\n",
       "         1.10e+01,  4.50e+01,  2.50e+01,  2.00e+00,  1.00e+00,  1.00e+00],\n",
       "       [ 1.10e+02,  3.00e+00,  1.00e+00,  2.50e+02,  1.50e+00,  1.15e+01,\n",
       "         1.00e+01,  9.00e+01,  2.50e+01,  1.00e+00,  1.00e+00,  7.50e-01],\n",
       "       [ 1.10e+02,  1.00e+00,  0.00e+00,  1.80e+02,  0.00e+00,  1.40e+01,\n",
       "         1.10e+01,  3.50e+01,  2.50e+01,  1.00e+00,  1.00e+00,  1.33e+00],\n",
       "       [ 1.10e+02,  2.00e+00,  1.00e+00,  1.70e+02,  1.00e+00,  1.70e+01,\n",
       "         6.00e+00,  6.00e+01,  1.00e+02,  3.00e+00,  1.00e+00,  1.00e+00],\n",
       "       [ 1.40e+02,  3.00e+00,  1.00e+00,  1.70e+02,  2.00e+00,  2.00e+01,\n",
       "         9.00e+00,  9.50e+01,  1.00e+02,  3.00e+00,  1.30e+00,  7.50e-01],\n",
       "       [ 1.10e+02,  2.00e+00,  1.00e+00,  2.60e+02,  0.00e+00,  2.10e+01,\n",
       "         3.00e+00,  4.00e+01,  2.50e+01,  2.00e+00,  1.00e+00,  1.50e+00],\n",
       "       [ 1.00e+02,  4.00e+00,  2.00e+00,  1.50e+02,  2.00e+00,  1.20e+01,\n",
       "         6.00e+00,  9.50e+01,  2.50e+01,  2.00e+00,  1.00e+00,  6.70e-01],\n",
       "       [ 1.10e+02,  2.00e+00,  1.00e+00,  1.80e+02,  0.00e+00,  1.20e+01,\n",
       "         1.20e+01,  5.50e+01,  2.50e+01,  2.00e+00,  1.00e+00,  1.00e+00],\n",
       "       [ 1.00e+02,  4.00e+00,  1.00e+00,  0.00e+00,  0.00e+00,  1.60e+01,\n",
       "         3.00e+00,  9.50e+01,  2.50e+01,  2.00e+00,  1.00e+00,  1.00e+00],\n",
       "       [ 1.50e+02,  4.00e+00,  3.00e+00,  9.50e+01,  3.00e+00,  1.60e+01,\n",
       "         1.10e+01,  1.70e+02,  2.50e+01,  3.00e+00,  1.00e+00,  1.00e+00],\n",
       "       [ 1.50e+02,  4.00e+00,  3.00e+00,  1.50e+02,  3.00e+00,  1.60e+01,\n",
       "         1.10e+01,  1.70e+02,  2.50e+01,  3.00e+00,  1.00e+00,  1.00e+00],\n",
       "       [ 1.60e+02,  3.00e+00,  2.00e+00,  1.50e+02,  3.00e+00,  1.70e+01,\n",
       "         1.30e+01,  1.60e+02,  2.50e+01,  3.00e+00,  1.50e+00,  6.70e-01],\n",
       "       [ 1.00e+02,  2.00e+00,  1.00e+00,  2.20e+02,  2.00e+00,  1.50e+01,\n",
       "         6.00e+00,  9.00e+01,  2.50e+01,  1.00e+00,  1.00e+00,  1.00e+00],\n",
       "       [ 1.20e+02,  2.00e+00,  1.00e+00,  1.90e+02,  0.00e+00,  1.50e+01,\n",
       "         9.00e+00,  4.00e+01,  2.50e+01,  2.00e+00,  1.00e+00,  6.70e-01],\n",
       "       [ 1.40e+02,  3.00e+00,  2.00e+00,  2.20e+02,  3.00e+00,  2.10e+01,\n",
       "         7.00e+00,  1.30e+02,  2.50e+01,  3.00e+00,  1.33e+00,  6.70e-01],\n",
       "       [ 9.00e+01,  3.00e+00,  0.00e+00,  1.70e+02,  3.00e+00,  1.80e+01,\n",
       "         2.00e+00,  9.00e+01,  2.50e+01,  3.00e+00,  1.00e+00,  1.00e+00],\n",
       "       [ 1.30e+02,  3.00e+00,  2.00e+00,  1.70e+02,  1.50e+00,  1.35e+01,\n",
       "         1.00e+01,  1.20e+02,  2.50e+01,  3.00e+00,  1.25e+00,  5.00e-01],\n",
       "       [ 1.20e+02,  3.00e+00,  1.00e+00,  2.00e+02,  6.00e+00,  1.10e+01,\n",
       "         1.40e+01,  2.60e+02,  2.50e+01,  3.00e+00,  1.33e+00,  6.70e-01],\n",
       "       [ 1.00e+02,  3.00e+00,  0.00e+00,  3.20e+02,  1.00e+00,  2.00e+01,\n",
       "         3.00e+00,  4.50e+01,  1.00e+02,  3.00e+00,  1.00e+00,  1.00e+00],\n",
       "       [ 5.00e+01,  1.00e+00,  0.00e+00,  0.00e+00,  0.00e+00,  1.30e+01,\n",
       "         0.00e+00,  1.50e+01,  0.00e+00,  3.00e+00,  5.00e-01,  1.00e+00],\n",
       "       [ 5.00e+01,  2.00e+00,  0.00e+00,  0.00e+00,  1.00e+00,  1.00e+01,\n",
       "         0.00e+00,  5.00e+01,  0.00e+00,  3.00e+00,  5.00e-01,  1.00e+00],\n",
       "       [ 1.00e+02,  4.00e+00,  1.00e+00,  1.35e+02,  2.00e+00,  1.40e+01,\n",
       "         6.00e+00,  1.10e+02,  2.50e+01,  3.00e+00,  1.00e+00,  5.00e-01],\n",
       "       [ 1.00e+02,  5.00e+00,  2.00e+00,  0.00e+00,  2.70e+00, -1.00e+00,\n",
       "        -1.00e+00,  1.10e+02,  0.00e+00,  1.00e+00,  1.00e+00,  6.70e-01],\n",
       "       [ 1.20e+02,  3.00e+00,  1.00e+00,  2.10e+02,  5.00e+00,  1.40e+01,\n",
       "         1.20e+01,  2.40e+02,  2.50e+01,  2.00e+00,  1.33e+00,  7.50e-01],\n",
       "       [ 1.00e+02,  3.00e+00,  2.00e+00,  1.40e+02,  2.50e+00,  1.05e+01,\n",
       "         8.00e+00,  1.40e+02,  2.50e+01,  3.00e+00,  1.00e+00,  5.00e-01],\n",
       "       [ 9.00e+01,  2.00e+00,  0.00e+00,  0.00e+00,  2.00e+00,  1.50e+01,\n",
       "         6.00e+00,  1.10e+02,  2.50e+01,  3.00e+00,  1.00e+00,  5.00e-01],\n",
       "       [ 1.10e+02,  1.00e+00,  0.00e+00,  2.40e+02,  0.00e+00,  2.30e+01,\n",
       "         2.00e+00,  3.00e+01,  2.50e+01,  1.00e+00,  1.00e+00,  1.13e+00],\n",
       "       [ 1.10e+02,  2.00e+00,  0.00e+00,  2.90e+02,  0.00e+00,  2.20e+01,\n",
       "         3.00e+00,  3.50e+01,  2.50e+01,  1.00e+00,  1.00e+00,  1.00e+00],\n",
       "       [ 8.00e+01,  2.00e+00,  0.00e+00,  0.00e+00,  3.00e+00,  1.60e+01,\n",
       "         0.00e+00,  9.50e+01,  0.00e+00,  1.00e+00,  8.30e-01,  1.00e+00],\n",
       "       [ 9.00e+01,  3.00e+00,  0.00e+00,  0.00e+00,  4.00e+00,  1.90e+01,\n",
       "         0.00e+00,  1.40e+02,  0.00e+00,  1.00e+00,  1.00e+00,  6.70e-01],\n",
       "       [ 9.00e+01,  3.00e+00,  0.00e+00,  0.00e+00,  3.00e+00,  2.00e+01,\n",
       "         0.00e+00,  1.20e+02,  0.00e+00,  1.00e+00,  1.00e+00,  6.70e-01],\n",
       "       [ 1.10e+02,  2.00e+00,  1.00e+00,  7.00e+01,  1.00e+00,  9.00e+00,\n",
       "         1.50e+01,  4.00e+01,  2.50e+01,  2.00e+00,  1.00e+00,  7.50e-01],\n",
       "       [ 1.10e+02,  6.00e+00,  0.00e+00,  2.30e+02,  1.00e+00,  1.60e+01,\n",
       "         3.00e+00,  5.50e+01,  2.50e+01,  1.00e+00,  1.00e+00,  1.00e+00],\n",
       "       [ 9.00e+01,  2.00e+00,  0.00e+00,  1.50e+01,  3.00e+00,  1.50e+01,\n",
       "         5.00e+00,  9.00e+01,  2.50e+01,  2.00e+00,  1.00e+00,  1.00e+00],\n",
       "       [ 1.10e+02,  2.00e+00,  1.00e+00,  2.00e+02,  0.00e+00,  2.10e+01,\n",
       "         3.00e+00,  3.50e+01,  1.00e+02,  3.00e+00,  1.00e+00,  1.00e+00],\n",
       "       [ 1.40e+02,  3.00e+00,  1.00e+00,  1.90e+02,  4.00e+00,  1.50e+01,\n",
       "         1.40e+01,  2.30e+02,  1.00e+02,  3.00e+00,  1.50e+00,  1.00e+00],\n",
       "       [ 1.00e+02,  3.00e+00,  1.00e+00,  2.00e+02,  3.00e+00,  1.60e+01,\n",
       "         3.00e+00,  1.10e+02,  1.00e+02,  3.00e+00,  1.00e+00,  1.00e+00],\n",
       "       [ 1.10e+02,  2.00e+00,  1.00e+00,  2.50e+02,  0.00e+00,  2.10e+01,\n",
       "         3.00e+00,  6.00e+01,  2.50e+01,  3.00e+00,  1.00e+00,  7.50e-01],\n",
       "       [ 1.10e+02,  1.00e+00,  1.00e+00,  1.40e+02,  0.00e+00,  1.30e+01,\n",
       "         1.20e+01,  2.50e+01,  2.50e+01,  2.00e+00,  1.00e+00,  1.00e+00],\n",
       "       [ 1.00e+02,  3.00e+00,  1.00e+00,  2.30e+02,  3.00e+00,  1.70e+01,\n",
       "         3.00e+00,  1.15e+02,  2.50e+01,  1.00e+00,  1.00e+00,  6.70e-01],\n",
       "       [ 1.00e+02,  3.00e+00,  1.00e+00,  2.00e+02,  3.00e+00,  1.70e+01,\n",
       "         3.00e+00,  1.10e+02,  2.50e+01,  1.00e+00,  1.00e+00,  1.00e+00],\n",
       "       [ 1.10e+02,  2.00e+00,  1.00e+00,  2.00e+02,  1.00e+00,  1.60e+01,\n",
       "         8.00e+00,  6.00e+01,  2.50e+01,  1.00e+00,  1.00e+00,  7.50e-01]])"
      ]
     },
     "execution_count": 30,
     "metadata": {},
     "output_type": "execute_result"
    }
   ],
   "source": [
    "x"
   ]
  },
  {
   "cell_type": "code",
   "execution_count": 31,
   "metadata": {},
   "outputs": [
    {
     "data": {
      "text/plain": [
       "array([68.402973, 33.983679, 59.425505, 93.704912, 34.384843, 29.509541,\n",
       "       33.174094, 37.038562, 49.120253, 53.313813, 18.042851, 50.764999,\n",
       "       19.823573, 40.400208, 22.736446, 41.445019, 45.863324, 35.782791,\n",
       "       22.396513, 40.448772, 64.533816, 46.895644, 36.176196, 44.330856,\n",
       "       32.207582, 31.435973, 58.345141, 40.917047, 41.015492, 28.025765,\n",
       "       35.252444, 23.804043, 52.076897, 53.371007, 45.811716, 21.871292,\n",
       "       31.072217, 28.742414, 36.523683, 36.471512, 39.241114, 45.328074,\n",
       "       26.734515, 54.850917, 37.136863, 34.139765, 30.313351, 40.105965,\n",
       "       29.924285, 40.69232 , 59.642837, 30.450843, 37.840594, 41.50354 ,\n",
       "       60.756112, 63.005645, 49.511874, 50.828392, 39.259197, 39.7034  ,\n",
       "       55.333142, 41.998933, 40.560159, 68.235885, 74.472949, 72.801787,\n",
       "       31.230054, 53.131324, 59.363993, 38.839746, 28.592785, 46.658844,\n",
       "       39.106174, 27.753301, 49.787445, 51.592193, 36.187559])"
      ]
     },
     "execution_count": 31,
     "metadata": {},
     "output_type": "execute_result"
    }
   ],
   "source": [
    "y"
   ]
  },
  {
   "cell_type": "code",
   "execution_count": 17,
   "metadata": {},
   "outputs": [
    {
     "name": "stdout",
     "output_type": "stream",
     "text": [
      "(57, 12)\n",
      "(20, 12)\n"
     ]
    }
   ],
   "source": [
    "from sklearn.model_selection import train_test_split\n",
    "X_train, X_test, y_train, y_test = train_test_split(x, y, test_size=0.25,random_state=10)\n",
    "print (X_train.shape)\n",
    "print (X_test.shape)"
   ]
  },
  {
   "cell_type": "code",
   "execution_count": 18,
   "metadata": {},
   "outputs": [],
   "source": [
    "from sklearn.linear_model import LinearRegression"
   ]
  },
  {
   "cell_type": "code",
   "execution_count": 19,
   "metadata": {},
   "outputs": [
    {
     "data": {
      "text/plain": [
       "LinearRegression(copy_X=True, fit_intercept=True, n_jobs=None, normalize=False)"
      ]
     },
     "execution_count": 19,
     "metadata": {},
     "output_type": "execute_result"
    }
   ],
   "source": [
    "lr = LinearRegression()\n",
    "lr.fit(X_train,y_train)"
   ]
  },
  {
   "cell_type": "code",
   "execution_count": 20,
   "metadata": {},
   "outputs": [
    {
     "data": {
      "text/plain": [
       "0.9999999999999996"
      ]
     },
     "execution_count": 20,
     "metadata": {},
     "output_type": "execute_result"
    }
   ],
   "source": [
    "lr.score(X_test,y_test)"
   ]
  },
  {
   "cell_type": "code",
   "execution_count": 21,
   "metadata": {},
   "outputs": [],
   "source": [
    "y_predict = lr.predict(X_test)"
   ]
  },
  {
   "cell_type": "code",
   "execution_count": 22,
   "metadata": {},
   "outputs": [
    {
     "data": {
      "text/plain": [
       "array([-1.24692420e-07,  6.68726713e-07,  3.37519136e-07, -3.95900024e-07,\n",
       "        4.44604446e-07,  4.02566450e-07,  7.62804220e-08,  5.44470701e-07,\n",
       "       -2.82373605e-07,  5.13221742e-07, -2.41608731e-07,  2.75929267e-07,\n",
       "        7.98742903e-08,  7.26097369e-08,  3.93207280e-07,  4.56070204e-07,\n",
       "       -5.59116245e-07, -3.44223466e-07,  7.61775354e-08,  4.42949489e-07])"
      ]
     },
     "execution_count": 22,
     "metadata": {},
     "output_type": "execute_result"
    }
   ],
   "source": [
    "y_predict - y_test"
   ]
  },
  {
   "cell_type": "code",
   "execution_count": 23,
   "metadata": {},
   "outputs": [
    {
     "data": {
      "text/plain": [
       "{'copy_X': True, 'fit_intercept': True, 'n_jobs': None, 'normalize': False}"
      ]
     },
     "execution_count": 23,
     "metadata": {},
     "output_type": "execute_result"
    }
   ],
   "source": [
    "lr.get_params()"
   ]
  },
  {
   "cell_type": "code",
   "execution_count": 24,
   "metadata": {},
   "outputs": [],
   "source": [
    "from sklearn.metrics import mean_squared_error\n",
    "mse = mean_squared_error(y_test,y_predict)"
   ]
  },
  {
   "cell_type": "code",
   "execution_count": 25,
   "metadata": {},
   "outputs": [
    {
     "name": "stdout",
     "output_type": "stream",
     "text": [
      "1.4402073884542138e-13\n"
     ]
    }
   ],
   "source": [
    "print (mse)"
   ]
  },
  {
   "cell_type": "code",
   "execution_count": null,
   "metadata": {},
   "outputs": [],
   "source": []
  }
 ],
 "metadata": {
  "kernelspec": {
   "display_name": "Python 3",
   "language": "python",
   "name": "python3"
  },
  "language_info": {
   "codemirror_mode": {
    "name": "ipython",
    "version": 3
   },
   "file_extension": ".py",
   "mimetype": "text/x-python",
   "name": "python",
   "nbconvert_exporter": "python",
   "pygments_lexer": "ipython3",
   "version": "3.7.3"
  }
 },
 "nbformat": 4,
 "nbformat_minor": 2
}
