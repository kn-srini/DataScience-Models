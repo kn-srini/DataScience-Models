{
 "cells": [
  {
   "cell_type": "code",
   "execution_count": 1,
   "metadata": {},
   "outputs": [],
   "source": [
    "import pandas as pd\n",
    "import numpy as np\n",
    "\n",
    "\n",
    "# Read the three files\n",
    "\n",
    "math_data = pd.read_csv(\"F:\\sreenu\\Data Science\\Python\\Module-4 Dataset/MathScoreTerm1.csv\")\n",
    "ds_data = pd.read_csv(\"F:\\sreenu\\Data Science\\Python\\Module-4 Dataset/DSScoreTerm1.csv\")\n",
    "physics_data = pd.read_csv(\"F:\\sreenu\\Data Science\\Python\\Module-4 Dataset/PhysicsScoreTerm1.csv\")"
   ]
  },
  {
   "cell_type": "code",
   "execution_count": 2,
   "metadata": {},
   "outputs": [
    {
     "name": "stdout",
     "output_type": "stream",
     "text": [
      "             Name  Score  Age         Ethinicity Subject Sex  ID\n",
      "0  AI-KYUNG CHUNG   88.0   18     White American   Maths   M   1\n",
      "1     ALAN HARVEY   85.0   19  European American   Maths   M   2\n",
      "2    ALAN REYNAUD   45.0   19  European American   Maths   M   3\n",
      "3  ALBERT CENDANA   82.0   18     White American   Maths   M   4\n",
      "4  ALBERT HOLT JR   82.0   18     White American   Maths   F   5\n"
     ]
    }
   ],
   "source": [
    "# Preview the first data set\n",
    "print(math_data.head())"
   ]
  },
  {
   "cell_type": "code",
   "execution_count": 3,
   "metadata": {},
   "outputs": [
    {
     "name": "stdout",
     "output_type": "stream",
     "text": [
      "   Score  Age Subject Sex  ID\n",
      "0   88.0   18   Maths   M   1\n",
      "1   85.0   19   Maths   M   2\n",
      "2   45.0   19   Maths   M   3\n",
      "3   82.0   18   Maths   M   4\n",
      "4   82.0   18   Maths   F   5\n"
     ]
    }
   ],
   "source": [
    "#Remove Name and Ethinicty columns from each  data set\n",
    "math_data = math_data.drop(['Name','Ethinicity'], axis=1)\n",
    "print(math_data.head())"
   ]
  },
  {
   "cell_type": "code",
   "execution_count": 4,
   "metadata": {},
   "outputs": [
    {
     "name": "stdout",
     "output_type": "stream",
     "text": [
      "Score      3\n",
      "Age        0\n",
      "Subject    0\n",
      "Sex        0\n",
      "ID         0\n",
      "dtype: int64\n"
     ]
    }
   ],
   "source": [
    "# print Summary of missing values in Term1 Data\n",
    "print (math_data.isnull().sum())"
   ]
  },
  {
   "cell_type": "code",
   "execution_count": 5,
   "metadata": {},
   "outputs": [],
   "source": [
    "# Fill Missing Scores with 0\n",
    "math_data['Score'] = math_data['Score'].fillna(0)"
   ]
  },
  {
   "cell_type": "code",
   "execution_count": 6,
   "metadata": {},
   "outputs": [
    {
     "name": "stdout",
     "output_type": "stream",
     "text": [
      "Score      0\n",
      "Age        0\n",
      "Subject    0\n",
      "Sex        0\n",
      "ID         0\n",
      "dtype: int64\n"
     ]
    }
   ],
   "source": [
    "# Check Again if values are filled correctly\n",
    "print (math_data.isnull().sum())"
   ]
  },
  {
   "cell_type": "code",
   "execution_count": 7,
   "metadata": {},
   "outputs": [],
   "source": [
    "# Do the same for DS and Physics\n",
    "\n",
    "ds_data = ds_data.drop(['Name','Ethinicity'], axis=1)\n",
    "ds_data['Score'] = ds_data['Score'].fillna(0)\n",
    "\n",
    "physics_data = physics_data.drop(['Name','Ethinicity'], axis=1)\n",
    "physics_data['Score'] = physics_data['Score'].fillna(0)"
   ]
  },
  {
   "cell_type": "code",
   "execution_count": 8,
   "metadata": {},
   "outputs": [],
   "source": [
    "all_data =[math_data,ds_data,physics_data]"
   ]
  },
  {
   "cell_type": "code",
   "execution_count": 9,
   "metadata": {},
   "outputs": [
    {
     "data": {
      "text/plain": [
       "[     Score  Age Subject Sex   ID\n",
       " 0     88.0   18   Maths   M    1\n",
       " 1     85.0   19   Maths   M    2\n",
       " 2     45.0   19   Maths   M    3\n",
       " 3     82.0   18   Maths   M    4\n",
       " 4     82.0   18   Maths   F    5\n",
       " 5     95.0   20   Maths   M    6\n",
       " 6     95.0   18   Maths   M    7\n",
       " 7     65.0   19   Maths   M    8\n",
       " 8     88.0   18   Maths   M    9\n",
       " 9     88.0   19   Maths   F   10\n",
       " 10    53.0   20   Maths   M   11\n",
       " 11    53.0   20   Maths   M   12\n",
       " 12    66.0   19   Maths   M   13\n",
       " 13    88.0   18   Maths   M   14\n",
       " 14    88.0   21   Maths   F   15\n",
       " 15    82.0   20   Maths   M   16\n",
       " 16    31.0   18   Maths   M   17\n",
       " 17    95.0   18   Maths   M   18\n",
       " 18    91.0   18   Maths   M   19\n",
       " 19    66.0   18   Maths   F   20\n",
       " 20    82.0   18   Maths   M   21\n",
       " 21    66.0   18   Maths   M   22\n",
       " 22    75.0   18   Maths   M   23\n",
       " 23    65.0   19   Maths   M   24\n",
       " 24    91.0   20   Maths   F   25\n",
       " 25    91.0   18   Maths   M   26\n",
       " 26    53.0   20   Maths   M   27\n",
       " 27    91.0   20   Maths   M   28\n",
       " 28    88.0   21   Maths   M   29\n",
       " 29    85.0   19   Maths   F   30\n",
       " ..     ...  ...     ...  ..  ...\n",
       " 569   65.0   19   Maths   F  570\n",
       " 570   45.0   19   Maths   M  571\n",
       " 571   82.0   20   Maths   M  572\n",
       " 572   53.0   18   Maths   M  573\n",
       " 573   85.0   18   Maths   M  574\n",
       " 574   75.0   20   Maths   F  575\n",
       " 575   85.0   21   Maths   M  576\n",
       " 576   75.0   18   Maths   M  577\n",
       " 577   85.0   19   Maths   M  578\n",
       " 578   82.0   18   Maths   M  579\n",
       " 579   65.0   21   Maths   F  580\n",
       " 580   95.0   18   Maths   M  581\n",
       " 581   91.0   20   Maths   M  582\n",
       " 582   45.0   21   Maths   M  583\n",
       " 583   95.0   18   Maths   M  584\n",
       " 584   91.0   18   Maths   F  585\n",
       " 585   53.0   20   Maths   M  586\n",
       " 586   85.0   19   Maths   M  587\n",
       " 587   45.0   18   Maths   M  588\n",
       " 588   88.0   19   Maths   M  589\n",
       " 589   82.0   20   Maths   F  590\n",
       " 590   65.0   19   Maths   M  591\n",
       " 591   88.0   19   Maths   M  592\n",
       " 592   91.0   20   Maths   M  593\n",
       " 593   88.0   19   Maths   M  594\n",
       " 594   45.0   19   Maths   F  595\n",
       " 595   75.0   18   Maths   M  596\n",
       " 596   53.0   20   Maths   M  597\n",
       " 597   75.0   20   Maths   M  598\n",
       " 598   88.0   19   Maths   M  599\n",
       " \n",
       " [599 rows x 5 columns],      Score  Age        Subject Sex   ID\n",
       " 0     82.0   18  Data Structue   M    1\n",
       " 1     79.0   19  Data Structue   M    2\n",
       " 2     39.0   19  Data Structue   M    3\n",
       " 3     76.0   18  Data Structue   M    4\n",
       " 4     76.0   18  Data Structue   F    5\n",
       " 5     89.0   20  Data Structue   M    6\n",
       " 6     89.0   18  Data Structue   M    7\n",
       " 7     59.0   19  Data Structue   M    8\n",
       " 8     82.0   18  Data Structue   M    9\n",
       " 9     82.0   19  Data Structue   F   10\n",
       " 10    47.0   20  Data Structue   M   11\n",
       " 11    47.0   20  Data Structue   M   12\n",
       " 12    60.0   19  Data Structue   M   13\n",
       " 13    82.0   18  Data Structue   M   14\n",
       " 14    82.0   21  Data Structue   F   15\n",
       " 15    76.0   20  Data Structue   M   16\n",
       " 16    25.0   18  Data Structue   M   17\n",
       " 17    89.0   18  Data Structue   M   18\n",
       " 18    85.0   18  Data Structue   M   19\n",
       " 19    60.0   18  Data Structue   F   20\n",
       " 20    76.0   18  Data Structue   M   21\n",
       " 21    60.0   18  Data Structue   M   22\n",
       " 22    69.0   18  Data Structue   M   23\n",
       " 23    59.0   19  Data Structue   M   24\n",
       " 24    85.0   20  Data Structue   F   25\n",
       " 25    85.0   18  Data Structue   M   26\n",
       " 26    47.0   20  Data Structue   M   27\n",
       " 27    85.0   20  Data Structue   M   28\n",
       " 28    82.0   21  Data Structue   M   29\n",
       " 29    79.0   19  Data Structue   F   30\n",
       " ..     ...  ...            ...  ..  ...\n",
       " 569   59.0   19  Data Structue   F  570\n",
       " 570   39.0   19  Data Structue   M  571\n",
       " 571   76.0   20  Data Structue   M  572\n",
       " 572   47.0   18  Data Structue   M  573\n",
       " 573   79.0   18  Data Structue   M  574\n",
       " 574   69.0   20  Data Structue   F  575\n",
       " 575   79.0   21  Data Structue   M  576\n",
       " 576   69.0   18  Data Structue   M  577\n",
       " 577   79.0   19  Data Structue   M  578\n",
       " 578   76.0   18  Data Structue   M  579\n",
       " 579   59.0   21  Data Structue   F  580\n",
       " 580   89.0   18  Data Structue   M  581\n",
       " 581   85.0   20  Data Structue   M  582\n",
       " 582   39.0   21  Data Structue   M  583\n",
       " 583   89.0   18  Data Structue   M  584\n",
       " 584   85.0   18  Data Structue   F  585\n",
       " 585   47.0   20  Data Structue   M  586\n",
       " 586   79.0   19  Data Structue   M  587\n",
       " 587   39.0   18  Data Structue   M  588\n",
       " 588   82.0   19  Data Structue   M  589\n",
       " 589   76.0   20  Data Structue   F  590\n",
       " 590   59.0   19  Data Structue   M  591\n",
       " 591   82.0   19  Data Structue   M  592\n",
       " 592   85.0   20  Data Structue   M  593\n",
       " 593   82.0   19  Data Structue   M  594\n",
       " 594   39.0   19  Data Structue   F  595\n",
       " 595   69.0   18  Data Structue   M  596\n",
       " 596   47.0   20  Data Structue   M  597\n",
       " 597   69.0   20  Data Structue   M  598\n",
       " 598    0.0   19  Data Structue   M  599\n",
       " \n",
       " [599 rows x 5 columns],      Score  Age  Subject Sex   ID\n",
       " 0     84.0   18  Physics   M    1\n",
       " 1     81.0   19  Physics   M    2\n",
       " 2     41.0   19  Physics   M    3\n",
       " 3     78.0   18  Physics   M    4\n",
       " 4     78.0   18  Physics   F    5\n",
       " 5     91.0   20  Physics   M    6\n",
       " 6     91.0   18  Physics   M    7\n",
       " 7     61.0   19  Physics   M    8\n",
       " 8     84.0   18  Physics   M    9\n",
       " 9     84.0   19  Physics   F   10\n",
       " 10    49.0   20  Physics   M   11\n",
       " 11    49.0   20  Physics   M   12\n",
       " 12    62.0   19  Physics   M   13\n",
       " 13    84.0   18  Physics   M   14\n",
       " 14    84.0   21  Physics   F   15\n",
       " 15    78.0   20  Physics   M   16\n",
       " 16     0.0   18  Physics   M   17\n",
       " 17    91.0   18  Physics   M   18\n",
       " 18    87.0   18  Physics   M   19\n",
       " 19    62.0   18  Physics   F   20\n",
       " 20    78.0   18  Physics   M   21\n",
       " 21    62.0   18  Physics   M   22\n",
       " 22    71.0   18  Physics   M   23\n",
       " 23    61.0   19  Physics   M   24\n",
       " 24    87.0   20  Physics   F   25\n",
       " 25    87.0   18  Physics   M   26\n",
       " 26    49.0   20  Physics   M   27\n",
       " 27    87.0   20  Physics   M   28\n",
       " 28    84.0   21  Physics   M   29\n",
       " 29    81.0   19  Physics   F   30\n",
       " ..     ...  ...      ...  ..  ...\n",
       " 569   61.0   19  Physics   F  570\n",
       " 570   41.0   19  Physics   M  571\n",
       " 571   78.0   20  Physics   M  572\n",
       " 572   49.0   18  Physics   M  573\n",
       " 573   81.0   18  Physics   M  574\n",
       " 574   71.0   20  Physics   F  575\n",
       " 575   81.0   21  Physics   M  576\n",
       " 576   71.0   18  Physics   M  577\n",
       " 577   81.0   19  Physics   M  578\n",
       " 578   78.0   18  Physics   M  579\n",
       " 579   61.0   21  Physics   F  580\n",
       " 580   91.0   18  Physics   M  581\n",
       " 581   87.0   20  Physics   M  582\n",
       " 582   41.0   21  Physics   M  583\n",
       " 583   91.0   18  Physics   M  584\n",
       " 584   87.0   18  Physics   F  585\n",
       " 585   49.0   20  Physics   M  586\n",
       " 586   81.0   19  Physics   M  587\n",
       " 587   41.0   18  Physics   M  588\n",
       " 588   84.0   19  Physics   M  589\n",
       " 589   78.0   20  Physics   F  590\n",
       " 590   61.0   19  Physics   M  591\n",
       " 591   84.0   19  Physics   M  592\n",
       " 592   87.0   20  Physics   M  593\n",
       " 593   84.0   19  Physics   M  594\n",
       " 594   41.0   19  Physics   F  595\n",
       " 595   71.0   18  Physics   M  596\n",
       " 596   49.0   20  Physics   M  597\n",
       " 597   71.0   20  Physics   M  598\n",
       " 598   69.0   19  Physics   M  599\n",
       " \n",
       " [599 rows x 5 columns]]"
      ]
     },
     "execution_count": 9,
     "metadata": {},
     "output_type": "execute_result"
    }
   ],
   "source": [
    "all_data"
   ]
  },
  {
   "cell_type": "code",
   "execution_count": 10,
   "metadata": {},
   "outputs": [],
   "source": [
    "# Convert Sex M to 1 and F to 2\n",
    "for dataset in all_data:\n",
    "    dataset['Sex'] = dataset['Sex'].map({'M': 1, 'F': 2}).astype(int)\n"
   ]
  },
  {
   "cell_type": "code",
   "execution_count": 11,
   "metadata": {},
   "outputs": [
    {
     "name": "stdout",
     "output_type": "stream",
     "text": [
      "Done\n"
     ]
    }
   ],
   "source": [
    "all_data_df = pd.concat(all_data)\n",
    "#all_data_df.to_csv('ScoreFinal.csv',index=False)\n",
    "\n",
    "print (\"Done\")"
   ]
  },
  {
   "cell_type": "code",
   "execution_count": 12,
   "metadata": {},
   "outputs": [
    {
     "data": {
      "text/html": [
       "<div>\n",
       "<style scoped>\n",
       "    .dataframe tbody tr th:only-of-type {\n",
       "        vertical-align: middle;\n",
       "    }\n",
       "\n",
       "    .dataframe tbody tr th {\n",
       "        vertical-align: top;\n",
       "    }\n",
       "\n",
       "    .dataframe thead th {\n",
       "        text-align: right;\n",
       "    }\n",
       "</style>\n",
       "<table border=\"1\" class=\"dataframe\">\n",
       "  <thead>\n",
       "    <tr style=\"text-align: right;\">\n",
       "      <th></th>\n",
       "      <th>Score</th>\n",
       "      <th>Age</th>\n",
       "      <th>Subject</th>\n",
       "      <th>Sex</th>\n",
       "      <th>ID</th>\n",
       "    </tr>\n",
       "  </thead>\n",
       "  <tbody>\n",
       "    <tr>\n",
       "      <th>0</th>\n",
       "      <td>88.0</td>\n",
       "      <td>18</td>\n",
       "      <td>Maths</td>\n",
       "      <td>1</td>\n",
       "      <td>1</td>\n",
       "    </tr>\n",
       "    <tr>\n",
       "      <th>1</th>\n",
       "      <td>85.0</td>\n",
       "      <td>19</td>\n",
       "      <td>Maths</td>\n",
       "      <td>1</td>\n",
       "      <td>2</td>\n",
       "    </tr>\n",
       "    <tr>\n",
       "      <th>2</th>\n",
       "      <td>45.0</td>\n",
       "      <td>19</td>\n",
       "      <td>Maths</td>\n",
       "      <td>1</td>\n",
       "      <td>3</td>\n",
       "    </tr>\n",
       "    <tr>\n",
       "      <th>3</th>\n",
       "      <td>82.0</td>\n",
       "      <td>18</td>\n",
       "      <td>Maths</td>\n",
       "      <td>1</td>\n",
       "      <td>4</td>\n",
       "    </tr>\n",
       "    <tr>\n",
       "      <th>4</th>\n",
       "      <td>82.0</td>\n",
       "      <td>18</td>\n",
       "      <td>Maths</td>\n",
       "      <td>2</td>\n",
       "      <td>5</td>\n",
       "    </tr>\n",
       "  </tbody>\n",
       "</table>\n",
       "</div>"
      ],
      "text/plain": [
       "   Score  Age Subject  Sex  ID\n",
       "0   88.0   18   Maths    1   1\n",
       "1   85.0   19   Maths    1   2\n",
       "2   45.0   19   Maths    1   3\n",
       "3   82.0   18   Maths    1   4\n",
       "4   82.0   18   Maths    2   5"
      ]
     },
     "execution_count": 12,
     "metadata": {},
     "output_type": "execute_result"
    }
   ],
   "source": [
    "all_data_df.head()"
   ]
  },
  {
   "cell_type": "code",
   "execution_count": null,
   "metadata": {},
   "outputs": [],
   "source": []
  }
 ],
 "metadata": {
  "kernelspec": {
   "display_name": "Python 3",
   "language": "python",
   "name": "python3"
  },
  "language_info": {
   "codemirror_mode": {
    "name": "ipython",
    "version": 3
   },
   "file_extension": ".py",
   "mimetype": "text/x-python",
   "name": "python",
   "nbconvert_exporter": "python",
   "pygments_lexer": "ipython3",
   "version": "3.7.3"
  }
 },
 "nbformat": 4,
 "nbformat_minor": 2
}
